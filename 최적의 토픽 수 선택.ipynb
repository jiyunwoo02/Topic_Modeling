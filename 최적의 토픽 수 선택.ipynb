{
 "cells": [
  {
   "cell_type": "code",
   "execution_count": 3,
   "id": "89b6027a",
   "metadata": {},
   "outputs": [
    {
     "name": "stdout",
     "output_type": "stream",
     "text": [
      "Number of Topics: 2, Coherence Score: 0.25394007732480595\n",
      "Number of Topics: 3, Coherence Score: 0.24595476577780115\n",
      "Number of Topics: 4, Coherence Score: 0.2435987095817201\n",
      "Number of Topics: 5, Coherence Score: 0.24984490948461816\n",
      "Number of Topics: 6, Coherence Score: 0.2624446239649353\n",
      "Number of Topics: 7, Coherence Score: 0.2509098567758015\n",
      "Number of Topics: 8, Coherence Score: 0.25006804443464536\n",
      "Number of Topics: 9, Coherence Score: 0.251699726245702\n",
      "Number of Topics: 10, Coherence Score: 0.25406617352396016\n",
      "Optimal Number of Topics: 6\n"
     ]
    }
   ],
   "source": [
    "import pandas as pd\n",
    "import gensim\n",
    "from gensim import corpora\n",
    "from gensim.models import LdaModel\n",
    "from gensim.models.coherencemodel import CoherenceModel\n",
    "from konlpy.tag import Okt\n",
    "\n",
    "# Load the Excel file and read the 'Abstract' column\n",
    "df = pd.read_excel('data.xlsx')\n",
    "texts = df['Abstract'].dropna().tolist()\n",
    "\n",
    "# Tokenize the texts using the Okt tokenizer\n",
    "tokenizer = Okt()\n",
    "texts = [tokenizer.morphs(text) for text in texts]\n",
    "\n",
    "# Create a dictionary from the tokenized texts\n",
    "dictionary = corpora.Dictionary(texts)\n",
    "\n",
    "# Convert the tokenized texts into a bag-of-words corpus\n",
    "corpus = [dictionary.doc2bow(text) for text in texts]\n",
    "\n",
    "# Find the optimal number of topics\n",
    "start_topic = 2\n",
    "end_topic = 10\n",
    "step = 1\n",
    "coherence_scores = []\n",
    "for num_topics in range(start_topic, end_topic+1, step):\n",
    "    lda_model = LdaModel(corpus=corpus, id2word=dictionary, num_topics=num_topics)\n",
    "    coherence_model = CoherenceModel(model=lda_model, texts=texts, dictionary=dictionary, coherence='c_v')\n",
    "    coherence_score = coherence_model.get_coherence()\n",
    "    coherence_scores.append(coherence_score)\n",
    "    print(f\"Number of Topics: {num_topics}, Coherence Score: {coherence_score}\")\n",
    "\n",
    "# Select the optimal number of topics\n",
    "optimal_num_topics = coherence_scores.index(max(coherence_scores)) + start_topic\n",
    "print(f\"Optimal Number of Topics: {optimal_num_topics}\")\n",
    "\n",
    "# Create the LDA model with the optimal number of topics\n",
    "lda_model = LdaModel(corpus=corpus, id2word=dictionary, num_topics=optimal_num_topics)\n"
   ]
  },
  {
   "cell_type": "markdown",
   "id": "85458f3f",
   "metadata": {},
   "source": [
    "일관성 점수가 높은 모델은 주제 간의 일관성이 높아 의미 있는 토픽을 잘 나타내는 경향이 있습니다. 따라서 이를 기준으로 최적의 토픽 수를 선택할 수 있습니다."
   ]
  },
  {
   "cell_type": "code",
   "execution_count": null,
   "id": "a5b2bd3f",
   "metadata": {},
   "outputs": [],
   "source": []
  }
 ],
 "metadata": {
  "kernelspec": {
   "display_name": "Python 3 (ipykernel)",
   "language": "python",
   "name": "python3"
  },
  "language_info": {
   "codemirror_mode": {
    "name": "ipython",
    "version": 3
   },
   "file_extension": ".py",
   "mimetype": "text/x-python",
   "name": "python",
   "nbconvert_exporter": "python",
   "pygments_lexer": "ipython3",
   "version": "3.9.7"
  }
 },
 "nbformat": 4,
 "nbformat_minor": 5
}
